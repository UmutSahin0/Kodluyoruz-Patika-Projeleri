{
 "cells": [
  {
   "cell_type": "markdown",
   "id": "cc400d97-d9a4-4e36-ab3e-71ea46b4e6a3",
   "metadata": {},
   "source": [
    "# Merge Sort "
   ]
  },
  {
   "cell_type": "markdown",
   "id": "84bfc6d7-3e94-48dd-ba2f-7dffa696a5bc",
   "metadata": {},
   "source": [
    "## Soru "
   ]
  },
  {
   "cell_type": "markdown",
   "id": "4396bab5-ffb2-4636-92e9-4c99620e15db",
   "metadata": {},
   "source": [
    "[16,21,11,8,12,22] \n",
    "<br>\n",
    "\n",
    "Yukarıdaki dizinin sort türüne göre aşamalarını yazınız.\n",
    "<br>\n",
    "Big-O gösterimini yazınız."
   ]
  },
  {
   "cell_type": "markdown",
   "id": "8fc98959-2cf9-471c-8d96-c26fc579a9c2",
   "metadata": {},
   "source": [
    "### Çözüm 1"
   ]
  },
  {
   "cell_type": "markdown",
   "id": "5de0f93f-5027-4fff-a072-a1d5b3e90625",
   "metadata": {},
   "source": [
    "[16,21,11,8,12,22] [16,21,11] [8,12,22] [16] [21,11] [8] [12,22] [16] [21] [11] [8] [12] [22] [16] [11,21] [8,12] [22] [11,16,21] [8,12,22] [8,11,12,16,21,22]"
   ]
  },
  {
   "cell_type": "markdown",
   "id": "19edbb44-ab51-4963-845f-e7e5b4ac86a1",
   "metadata": {},
   "source": [
    "## Çözüm 2 "
   ]
  },
  {
   "cell_type": "markdown",
   "id": "017528e2-a115-457f-bcbc-ce4603567854",
   "metadata": {},
   "source": [
    "<font size=\"6\">\n",
    "    \\begin{equation*}\n",
    "    O(nlogn)\n",
    "\\end{equation*}\n",
    "</font>"
   ]
  },
  {
   "cell_type": "code",
   "execution_count": null,
   "id": "ac4405ec-a43e-4499-a67a-984411e560bf",
   "metadata": {},
   "outputs": [],
   "source": []
  }
 ],
 "metadata": {
  "kernelspec": {
   "display_name": "Python 3 (ipykernel)",
   "language": "python",
   "name": "python3"
  },
  "language_info": {
   "codemirror_mode": {
    "name": "ipython",
    "version": 3
   },
   "file_extension": ".py",
   "mimetype": "text/x-python",
   "name": "python",
   "nbconvert_exporter": "python",
   "pygments_lexer": "ipython3",
   "version": "3.9.7"
  }
 },
 "nbformat": 4,
 "nbformat_minor": 5
}
