{
 "cells": [
  {
   "cell_type": "markdown",
   "id": "b7c52b54-603f-4094-a4e4-d412da003f20",
   "metadata": {},
   "source": [
    "# Insertion Sort"
   ]
  },
  {
   "cell_type": "markdown",
   "id": "ed2a6445-fe18-48c5-9924-8fc28f9af25d",
   "metadata": {},
   "source": [
    "## Soru"
   ]
  },
  {
   "cell_type": "markdown",
   "id": "1196163f-851c-4f6f-a5d5-2a011f0adccb",
   "metadata": {},
   "source": [
    "[22,27,16,2,18,6] "
   ]
  },
  {
   "cell_type": "markdown",
   "id": "dc2c0707-b36f-477a-a53a-4f51b10e49dd",
   "metadata": {},
   "source": [
    "1-Yukarı verilen dizinin insertion sort türüne göre aşamalarını yazınız.\n",
    "<br>\n",
    "2-Big-O gösterimini yazınız.\n",
    "<br>\n",
    "3-Time Complexity: Average case: Aradığımız sayının ortada olması,Worst case: Aradığımız sayının sonda olması, Best case: Aradığımız sayının dizinin en başında olması.\n",
    "<br>\n",
    "Dizi sıralandıktan sonra 18 sayısı hangi case kapsamına girer? Yazınız."
   ]
  },
  {
   "cell_type": "markdown",
   "id": "ac6994e1-9606-4aaf-afdd-ab1b5d75c542",
   "metadata": {},
   "source": [
    "### Çözüm 1"
   ]
  },
  {
   "cell_type": "markdown",
   "id": "b5ffd780-6714-4f2a-b3ce-3cb2a5e8f4da",
   "metadata": {},
   "source": [
    "<ul>\n",
    "<li>Verilen dizideki en küçük eleman bulunur ve en baştaki sayı ile yer değiştirilir.</li>\n",
    "<li>Ardından kinci en küçük eleman bulunur ve 2. sıra ile yer değiştirilir. </li>\n",
    "<li>Dizinin son elemanına kadar işlemler bu şekilde devam eder</li>\n",
    "<li>Eğer sıradaki indexteki eleman zaten en küçük ise hiç işlem yapılmayıp bir sonraki index e geçilir</li>\n",
    "<ul>"
   ]
  },
  {
   "cell_type": "markdown",
   "id": "e39b2121-e271-4333-ad7b-d661f605bf72",
   "metadata": {},
   "source": [
    "<ol>\n",
    "<li> <code> 2 16 18 22 27 6 <code> </li>\n",
    "<li> <code> 2 16 18 22 6 27 <code> </li>\n",
    "<li> <code> 2 16 18 6 22 27 <code> </li>\n",
    "<li> <code> 2 16 6 18 22 27 <code> </li>\n",
    "<li> <code> 2 6 16 18 22 27 <code> </li>\n",
    "<li> <code> 2 6 16 18 22 27 <code> </li>\n",
    "</ol>"
   ]
  },
  {
   "cell_type": "markdown",
   "id": "c5efab1f-693f-400c-a3b1-3ca8bd4fce9c",
   "metadata": {},
   "source": [
    "### Çözüm 2 "
   ]
  },
  {
   "cell_type": "markdown",
   "id": "7bdb0891-80f6-4a3b-bc34-974cbdfecda2",
   "metadata": {},
   "source": [
    "\n",
    "<font size=\"6\">\n",
    "    \\begin{equation*}\n",
    "    O(n^2)\n",
    "\\end{equation*}\n",
    "</font>\n"
   ]
  },
  {
   "cell_type": "markdown",
   "id": "0df210d4-a030-43ec-80b9-2e365ec5fd5b",
   "metadata": {},
   "source": [
    "### Çözüm 3 "
   ]
  },
  {
   "cell_type": "markdown",
   "id": "43c5559d-24d9-4b11-8e51-f8d6cc1cdbdf",
   "metadata": {},
   "source": [
    "18 dizinin ortasındaki elemanıdır ve bu da average case kapsamına girmektedir"
   ]
  },
  {
   "cell_type": "markdown",
   "id": "f240dd79-a06f-40a1-b1b8-c6ae2afcf89b",
   "metadata": {},
   "source": [
    "## Soru "
   ]
  },
  {
   "cell_type": "markdown",
   "id": "58087b2e-941f-4ae3-b93a-ac049ee987c2",
   "metadata": {},
   "source": [
    "[7,3,5,8,2,9,4,15,6] dizisinin Insertion Sort'a göre ilk 4 adımını yazınız."
   ]
  },
  {
   "cell_type": "markdown",
   "id": "030e3c57-09fe-4013-88fc-e6089230f925",
   "metadata": {},
   "source": [
    "### Çözüm "
   ]
  },
  {
   "cell_type": "markdown",
   "id": "889cd000-d595-459e-a550-9a7675284f99",
   "metadata": {},
   "source": [
    "<ol>\n",
    "<li> <code> 3 7 5 8 2 9 4 15 6 <code> </li>\n",
    "<li> <code> 3 5 7 8 2 9 4 15 6 <code> </li>\n",
    "<li> <code> 3 5 7 8 2 9 4 15 6 <code> </li>\n",
    "<li> <code> 3 5 7 2 8 9 4 15 6 <code> </li>\n",
    "</ol>"
   ]
  },
  {
   "cell_type": "code",
   "execution_count": null,
   "id": "96de1946-5d2f-4c1a-86fd-b1647e280d11",
   "metadata": {},
   "outputs": [],
   "source": []
  }
 ],
 "metadata": {
  "kernelspec": {
   "display_name": "Python 3 (ipykernel)",
   "language": "python",
   "name": "python3"
  },
  "language_info": {
   "codemirror_mode": {
    "name": "ipython",
    "version": 3
   },
   "file_extension": ".py",
   "mimetype": "text/x-python",
   "name": "python",
   "nbconvert_exporter": "python",
   "pygments_lexer": "ipython3",
   "version": "3.9.7"
  }
 },
 "nbformat": 4,
 "nbformat_minor": 5
}
